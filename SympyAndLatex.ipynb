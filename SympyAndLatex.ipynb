{
  "nbformat": 4,
  "nbformat_minor": 0,
  "metadata": {
    "colab": {
      "provenance": [],
      "authorship_tag": "ABX9TyN2KWmC711pJKmFHG7oaxRf",
      "include_colab_link": true
    },
    "kernelspec": {
      "name": "python3",
      "display_name": "Python 3"
    },
    "language_info": {
      "name": "python"
    }
  },
  "cells": [
    {
      "cell_type": "markdown",
      "metadata": {
        "id": "view-in-github",
        "colab_type": "text"
      },
      "source": [
        "<a href=\"https://colab.research.google.com/github/sCesca/Data-Science/blob/main/SympyAndLatex.ipynb\" target=\"_parent\"><img src=\"https://colab.research.google.com/assets/colab-badge.svg\" alt=\"Open In Colab\"/></a>"
      ]
    },
    {
      "cell_type": "markdown",
      "source": [
        "# Sympy e LaTeX\n",
        "---\n",
        "\n",
        "\n",
        "\n",
        "**Sympy** possibilita com que sejam criados símbolos e formas mais atrativas de se representar uma variável em Python.\n",
        "\n",
        "Além disso, possui métodos que representam fórmulas e funções para auxiliar no entendimento de um possível output visual."
      ],
      "metadata": {
        "id": "yJEECL64KcoV"
      }
    },
    {
      "cell_type": "code",
      "source": [
        "import numpy as np\n",
        "import sympy as sym\n",
        "sym.init_printing()\n",
        "from IPython.display import Math, display"
      ],
      "metadata": {
        "id": "9oIyoJdwNzKc"
      },
      "execution_count": 1,
      "outputs": []
    },
    {
      "cell_type": "code",
      "source": [
        "x, y, z = sym.symbols('x, y, z')"
      ],
      "metadata": {
        "id": "wxQpGqEKXs1I"
      },
      "execution_count": null,
      "outputs": []
    },
    {
      "cell_type": "code",
      "source": [
        "x, y, z"
      ],
      "metadata": {
        "colab": {
          "base_uri": "https://localhost:8080/",
          "height": 38
        },
        "id": "FmTFN6ZIYE9B",
        "outputId": "08d73406-86ed-40e0-e47d-cb3bd9d881a6"
      },
      "execution_count": null,
      "outputs": [
        {
          "output_type": "execute_result",
          "data": {
            "text/plain": [
              "(x, y, z)"
            ],
            "text/latex": "$\\displaystyle \\left( x, \\  y, \\  z\\right)$"
          },
          "metadata": {},
          "execution_count": 12
        }
      ]
    },
    {
      "cell_type": "code",
      "source": [
        "x**2 + y + 4**2 + y**x"
      ],
      "metadata": {
        "colab": {
          "base_uri": "https://localhost:8080/",
          "height": 38
        },
        "id": "UgJsI4kMYIuw",
        "outputId": "503820fc-320c-4705-e09d-0eb82e6a3327"
      },
      "execution_count": null,
      "outputs": [
        {
          "output_type": "execute_result",
          "data": {
            "text/plain": [
              " 2        x     \n",
              "x  + y + y  + 16"
            ],
            "text/latex": "$\\displaystyle x^{2} + y + y^{x} + 16$"
          },
          "metadata": {},
          "execution_count": 16
        }
      ]
    },
    {
      "cell_type": "code",
      "source": [
        "print(x**2 + y + 4**2 + y**x)"
      ],
      "metadata": {
        "colab": {
          "base_uri": "https://localhost:8080/"
        },
        "id": "2yU2L8KaY13H",
        "outputId": "ee2b9bba-20f6-439b-a7f0-57709f088d1f"
      },
      "execution_count": null,
      "outputs": [
        {
          "output_type": "stream",
          "name": "stdout",
          "text": [
            "x**2 + y + y**x + 16\n"
          ]
        }
      ]
    },
    {
      "cell_type": "code",
      "source": [
        "display(x**2 + y + 4**2 + y**x)\n",
        "print('-------')\n",
        "display(x**y / x)"
      ],
      "metadata": {
        "colab": {
          "base_uri": "https://localhost:8080/",
          "height": 90
        },
        "id": "JHh73sLlY38u",
        "outputId": "7bfcfac3-c276-4d0c-8791-c4d54d300822"
      },
      "execution_count": null,
      "outputs": [
        {
          "output_type": "display_data",
          "data": {
            "text/plain": [
              " 2        x     \n",
              "x  + y + y  + 16"
            ],
            "text/latex": "$\\displaystyle x^{2} + y + y^{x} + 16$"
          },
          "metadata": {}
        },
        {
          "output_type": "stream",
          "name": "stdout",
          "text": [
            "-------\n"
          ]
        },
        {
          "output_type": "display_data",
          "data": {
            "text/plain": [
              " y\n",
              "x \n",
              "──\n",
              "x "
            ],
            "text/latex": "$\\displaystyle \\frac{x^{y}}{x}$"
          },
          "metadata": {}
        }
      ]
    },
    {
      "cell_type": "code",
      "source": [
        "display(np.sqrt(2))\n",
        "print('-------')\n",
        "display(sym.sqrt(2))"
      ],
      "metadata": {
        "colab": {
          "base_uri": "https://localhost:8080/",
          "height": 76
        },
        "id": "URfhsKpiZzlO",
        "outputId": "65e13b71-d7af-4d18-e9ea-c6e91a6b1989"
      },
      "execution_count": null,
      "outputs": [
        {
          "output_type": "display_data",
          "data": {
            "text/plain": [
              "1.4142135623730951"
            ],
            "text/latex": "$\\displaystyle 1.4142135623731$"
          },
          "metadata": {}
        },
        {
          "output_type": "stream",
          "name": "stdout",
          "text": [
            "-------\n"
          ]
        },
        {
          "output_type": "display_data",
          "data": {
            "text/plain": [
              "√2"
            ],
            "text/latex": "$\\displaystyle \\sqrt{2}$"
          },
          "metadata": {}
        }
      ]
    },
    {
      "cell_type": "code",
      "source": [
        "# Sympy - exercises\n",
        "\n",
        "x, y = sym.symbols('x, y')\n",
        "\n",
        "# 1)\n",
        "display(y * x**2)\n",
        "\n",
        "# 2)\n",
        "display(sym.sqrt(4) * x)\n",
        "\n",
        "# 3)\n",
        "display(sym.sqrt(x) * sym.sqrt(x))"
      ],
      "metadata": {
        "colab": {
          "base_uri": "https://localhost:8080/",
          "height": 81
        },
        "id": "Qz5SikRWaA1A",
        "outputId": "d125fecf-8ef9-4dd0-a1cd-3697b813f59b"
      },
      "execution_count": null,
      "outputs": [
        {
          "output_type": "display_data",
          "data": {
            "text/plain": [
              " 2  \n",
              "x ⋅y"
            ],
            "text/latex": "$\\displaystyle x^{2} y$"
          },
          "metadata": {}
        },
        {
          "output_type": "display_data",
          "data": {
            "text/plain": [
              "2⋅x"
            ],
            "text/latex": "$\\displaystyle 2 x$"
          },
          "metadata": {}
        },
        {
          "output_type": "display_data",
          "data": {
            "text/plain": [
              "x"
            ],
            "text/latex": "$\\displaystyle x$"
          },
          "metadata": {}
        }
      ]
    },
    {
      "cell_type": "code",
      "source": [
        "display(Math('4 + 3 = 7'))"
      ],
      "metadata": {
        "colab": {
          "base_uri": "https://localhost:8080/",
          "height": 37
        },
        "id": "CgjIQ9NdMoYT",
        "outputId": "6d0d7c30-9458-4b8f-b355-2ac29dd610e9"
      },
      "execution_count": null,
      "outputs": [
        {
          "output_type": "display_data",
          "data": {
            "text/plain": [
              "<IPython.core.display.Math object>"
            ],
            "text/latex": "$\\displaystyle 4 + 3 = 7$"
          },
          "metadata": {}
        }
      ]
    },
    {
      "cell_type": "code",
      "source": [
        "display(Math('\\\\sigma = \\\\mu \\\\times \\\\sqrt{5}'))"
      ],
      "metadata": {
        "colab": {
          "base_uri": "https://localhost:8080/",
          "height": 40
        },
        "id": "9e40ahZkNI7z",
        "outputId": "4d9e4014-c091-4ff3-f488-47a171eadd8a"
      },
      "execution_count": null,
      "outputs": [
        {
          "output_type": "display_data",
          "data": {
            "text/plain": [
              "<IPython.core.display.Math object>"
            ],
            "text/latex": "$\\displaystyle \\sigma = \\mu \\times \\sqrt{5}$"
          },
          "metadata": {}
        }
      ]
    },
    {
      "cell_type": "code",
      "source": [
        "display(Math('x_{x \\\\times y} + y^{x \\\\times y - 2k - 15 \\\\div 4}'))"
      ],
      "metadata": {
        "colab": {
          "base_uri": "https://localhost:8080/",
          "height": 39
        },
        "id": "jSUCoV0rDH6y",
        "outputId": "568ed8bb-eda8-49cf-fcad-1b14ca153492"
      },
      "execution_count": null,
      "outputs": [
        {
          "output_type": "display_data",
          "data": {
            "text/plain": [
              "<IPython.core.display.Math object>"
            ],
            "text/latex": "$\\displaystyle x_{x \\times y} + y^{x \\times y - 2k - 15 \\div 4}$"
          },
          "metadata": {}
        }
      ]
    },
    {
      "cell_type": "code",
      "source": [
        "# Sympy exercise resolved with LaTex\n",
        "\n",
        "# 1)\n",
        "display(Math('y \\\\times x^{2}'))\n",
        "\n",
        "# 2)\n",
        "display(Math('\\\\sqrt{4} \\\\times x'))\n",
        "\n",
        "# 3)\n",
        "display(Math('\\\\sqrt{x}\\\\sqrt{x}'))"
      ],
      "metadata": {
        "colab": {
          "base_uri": "https://localhost:8080/",
          "height": 119
        },
        "id": "Y6ISYx5cD8rg",
        "outputId": "85820203-daeb-4875-95b6-fb32fce2ad34"
      },
      "execution_count": null,
      "outputs": [
        {
          "output_type": "display_data",
          "data": {
            "text/plain": [
              "<IPython.core.display.Math object>"
            ],
            "text/latex": "$\\displaystyle y \\times x^{2}$"
          },
          "metadata": {}
        },
        {
          "output_type": "display_data",
          "data": {
            "text/plain": [
              "<IPython.core.display.Math object>"
            ],
            "text/latex": "$\\displaystyle \\sqrt{4} \\times x$"
          },
          "metadata": {}
        },
        {
          "output_type": "display_data",
          "data": {
            "text/plain": [
              "<IPython.core.display.Math object>"
            ],
            "text/latex": "$\\displaystyle \\sqrt{x}\\sqrt{x}$"
          },
          "metadata": {}
        },
        {
          "output_type": "display_data",
          "data": {
            "text/plain": [
              "<IPython.core.display.Math object>"
            ],
            "text/latex": "$\\displaystyle \\frac{1+x}{2v + \\sqrt{4^{xt}}}$"
          },
          "metadata": {}
        }
      ]
    },
    {
      "cell_type": "code",
      "source": [
        "display(Math('\\\\text{The answer to this equation is: } \\\\frac{1+x}{2v + \\\\sqrt{4^{xt}}}'))"
      ],
      "metadata": {
        "colab": {
          "base_uri": "https://localhost:8080/",
          "height": 55
        },
        "id": "YoLzFwWWHwEt",
        "outputId": "e8dbff57-865e-48d7-fb1f-68598b5772f1"
      },
      "execution_count": null,
      "outputs": [
        {
          "output_type": "display_data",
          "data": {
            "text/plain": [
              "<IPython.core.display.Math object>"
            ],
            "text/latex": "$\\displaystyle \\text{The answer to this equation is: } \\frac{1+x}{2v + \\sqrt{4^{xt}}}$"
          },
          "metadata": {}
        }
      ]
    },
    {
      "cell_type": "markdown",
      "source": [
        "## This is a Markdown\n",
        "\n",
        "This cell is not for running actual Python code. We can make the following math expression: $\\frac{1+x}{2v + \\sqrt{4^{xt}}}$\n",
        "\n",
        "**LaTeX Exercises in markdown**\n",
        "\n",
        "1) $4x + 5y - 8z = 17$\n",
        "\n",
        "2) $\\sin(2\\pi ft + \\theta)$\n",
        "\n",
        "3) $e = mc²$\n",
        "\n",
        "4) $\\frac{4 + 5x²}{(1 + x) (1 -x)}$"
      ],
      "metadata": {
        "id": "yJ5fbVwlKzjL"
      }
    },
    {
      "cell_type": "code",
      "source": [
        "# LaTeX exercises\n",
        "\n",
        "# 1)\n",
        "display(Math('\\\\text{1) }4x + 5x - 8z = 17'))\n",
        "\n",
        "# 2)\n",
        "display(Math('\\\\text{2) }\\\\sin(2\\\\pi f t + \\\\theta)'))\n",
        "\n",
        "# 3)\n",
        "display(Math('\\\\text{3) }e = mc²'))\n",
        "\n",
        "# 4)\n",
        "display(Math('\\\\text{4) }\\\\frac{4 + 5x²}{(1 + x)(1 - x)}'))\n",
        "\n",
        "# Example with variable\n",
        "\n",
        "x = 50\n",
        "y = 10\n",
        "\n",
        "display(Math('\\\\text{Um exemplo utilizando variáveis X e Y: }\\\\frac{%g}{%g} = %g' %(x, y, x/y)))"
      ],
      "metadata": {
        "colab": {
          "base_uri": "https://localhost:8080/",
          "height": 156
        },
        "id": "fYVH9kL4Le2Z",
        "outputId": "4030e399-c3c9-47e8-d8d2-0f24b7d10308"
      },
      "execution_count": null,
      "outputs": [
        {
          "output_type": "display_data",
          "data": {
            "text/plain": [
              "<IPython.core.display.Math object>"
            ],
            "text/latex": "$\\displaystyle \\text{1) }4x + 5x - 8z = 17$"
          },
          "metadata": {}
        },
        {
          "output_type": "display_data",
          "data": {
            "text/plain": [
              "<IPython.core.display.Math object>"
            ],
            "text/latex": "$\\displaystyle \\text{2) }\\sin(2\\pi f t + \\theta)$"
          },
          "metadata": {}
        },
        {
          "output_type": "display_data",
          "data": {
            "text/plain": [
              "<IPython.core.display.Math object>"
            ],
            "text/latex": "$\\displaystyle \\text{3) }e = mc²$"
          },
          "metadata": {}
        },
        {
          "output_type": "display_data",
          "data": {
            "text/plain": [
              "<IPython.core.display.Math object>"
            ],
            "text/latex": "$\\displaystyle \\text{4) }\\frac{4 + 5x²}{(1 + x)(1 - x)}$"
          },
          "metadata": {}
        },
        {
          "output_type": "display_data",
          "data": {
            "text/plain": [
              "<IPython.core.display.Math object>"
            ],
            "text/latex": "$\\displaystyle \\text{Um exemplo utilizando variáveis X e Y: }\\frac{50}{10} = 5$"
          },
          "metadata": {}
        }
      ]
    },
    {
      "cell_type": "code",
      "source": [
        "mu, alpha, sigma = sym.symbols('mu, alpha, sigma')\n",
        "\n",
        "expr = sym.exp( (mu-alpha)**2 / (2*sigma**2) )\n",
        "display(expr)"
      ],
      "metadata": {
        "colab": {
          "base_uri": "https://localhost:8080/",
          "height": 46
        },
        "id": "6pfJnEmRRm5K",
        "outputId": "20746d2a-93c2-4d42-efbe-917aefccb2fa"
      },
      "execution_count": 3,
      "outputs": [
        {
          "output_type": "display_data",
          "data": {
            "text/plain": [
              "         2\n",
              " (-α + μ) \n",
              " ─────────\n",
              "       2  \n",
              "    2⋅σ   \n",
              "ℯ         "
            ],
            "text/latex": "$\\displaystyle e^{\\frac{\\left(- \\alpha + \\mu\\right)^{2}}{2 \\sigma^{2}}}$"
          },
          "metadata": {}
        }
      ]
    },
    {
      "cell_type": "code",
      "source": [
        "hello = sym.symbols('Samuel')\n",
        "hello/3"
      ],
      "metadata": {
        "colab": {
          "base_uri": "https://localhost:8080/",
          "height": 52
        },
        "id": "_UaD2a1VSDMA",
        "outputId": "8115bcb6-4da4-4778-ab49-222e1bec3bd1"
      },
      "execution_count": 4,
      "outputs": [
        {
          "output_type": "execute_result",
          "data": {
            "text/plain": [
              "Samuel\n",
              "──────\n",
              "  3   "
            ],
            "text/latex": "$\\displaystyle \\frac{Samuel}{3}$"
          },
          "metadata": {},
          "execution_count": 4
        }
      ]
    },
    {
      "cell_type": "code",
      "source": [
        "x = sym.symbols('x')\n",
        "expr = x + 4\n",
        "expr"
      ],
      "metadata": {
        "colab": {
          "base_uri": "https://localhost:8080/",
          "height": 38
        },
        "id": "TWjw1us8SQP-",
        "outputId": "c16315a0-929e-4b0b-a344-e2295ae3a49b"
      },
      "execution_count": 6,
      "outputs": [
        {
          "output_type": "execute_result",
          "data": {
            "text/plain": [
              "x + 4"
            ],
            "text/latex": "$\\displaystyle x + 4$"
          },
          "metadata": {},
          "execution_count": 6
        }
      ]
    },
    {
      "cell_type": "code",
      "source": [
        "expr.subs(x, 6)"
      ],
      "metadata": {
        "colab": {
          "base_uri": "https://localhost:8080/",
          "height": 37
        },
        "id": "jRatLDSkSWHu",
        "outputId": "5bd34321-e6f3-4eef-bbed-f2fbe4bde39e"
      },
      "execution_count": 8,
      "outputs": [
        {
          "output_type": "execute_result",
          "data": {
            "text/plain": [
              "10"
            ],
            "text/latex": "$\\displaystyle 10$"
          },
          "metadata": {},
          "execution_count": 8
        }
      ]
    },
    {
      "cell_type": "code",
      "source": [
        "x, y = sym.symbols('x, y')\n",
        "\n",
        "expr = x + 4 + 2**y\n",
        "\n",
        "expr.subs({x: -4, y: 2})"
      ],
      "metadata": {
        "colab": {
          "base_uri": "https://localhost:8080/",
          "height": 37
        },
        "id": "RV-EdJ22S6wT",
        "outputId": "d8d470a9-c349-42ba-e048-d9d0d3577d85"
      },
      "execution_count": 9,
      "outputs": [
        {
          "output_type": "execute_result",
          "data": {
            "text/plain": [
              "4"
            ],
            "text/latex": "$\\displaystyle 4$"
          },
          "metadata": {},
          "execution_count": 9
        }
      ]
    },
    {
      "cell_type": "code",
      "source": [
        "t = sym.symbols('t')\n",
        "expr = 3 / 2**t\n",
        "\n",
        "print(sym.latex(expr))\n",
        "\n",
        "display(Math(sym.latex(expr)))"
      ],
      "metadata": {
        "colab": {
          "base_uri": "https://localhost:8080/",
          "height": 55
        },
        "id": "BeX_AFegTRif",
        "outputId": "66bb23fb-c09a-4ed6-a49b-f1d2d42cd59e"
      },
      "execution_count": 29,
      "outputs": [
        {
          "output_type": "stream",
          "name": "stdout",
          "text": [
            "3 \\cdot 2^{- t}\n"
          ]
        },
        {
          "output_type": "display_data",
          "data": {
            "text/plain": [
              "<IPython.core.display.Math object>"
            ],
            "text/latex": "$\\displaystyle 3 \\cdot 2^{- t}$"
          },
          "metadata": {}
        }
      ]
    },
    {
      "cell_type": "code",
      "source": [
        "expr = 3 / t\n",
        "sym.latex(sym.sympify('3/4'))"
      ],
      "metadata": {
        "colab": {
          "base_uri": "https://localhost:8080/",
          "height": 35
        },
        "id": "ksJCZIDrVCfj",
        "outputId": "d8e73aee-3821-4228-8e3c-e9b098674d66"
      },
      "execution_count": 30,
      "outputs": [
        {
          "output_type": "execute_result",
          "data": {
            "text/plain": [
              "'\\\\frac{3}{4}'"
            ],
            "application/vnd.google.colaboratory.intrinsic+json": {
              "type": "string"
            }
          },
          "metadata": {},
          "execution_count": 30
        }
      ]
    },
    {
      "cell_type": "markdown",
      "source": [
        "**Sympy and Latex challenge**\n",
        "\n",
        "With x = -2 : x² + 4 => -2² + 4 = 8\n",
        "\n",
        "With x = -1 : x² + 4 => -1² + 4 = 5\n",
        "\n",
        "With x = 0 : x² + 4 => 0² + 4 = 4\n",
        "\n",
        "With x = 1 : x² + 4 => 1² + 4 = 5\n",
        "\n",
        "With x = 2 : x² + 4 => 2² + 4 = 8\n"
      ],
      "metadata": {
        "id": "3X9IilgTWOs5"
      }
    },
    {
      "cell_type": "code",
      "source": [
        "x = sym.symbols('x')\n",
        "\n",
        "expr = x**2 + 4\n",
        "\n",
        "for i in range(-10, 10) :\n",
        "  ans = (x + 4).subs(x, i**2)\n",
        "\n",
        "  # ou expr.subs(x, i)) no terceiro parâmetro do output\n",
        "\n",
        "  display(Math('\\\\text{With } x = %g; x^2 + 4 \\\\quad \\\\Rightarrow \\\\quad %g² + 4 = %g' %(i, i, ans)))\n"
      ],
      "metadata": {
        "colab": {
          "base_uri": "https://localhost:8080/",
          "height": 443
        },
        "id": "Y0Y1_s_0WMus",
        "outputId": "48c7182c-f5cc-43f0-a266-915c3d6f14b2"
      },
      "execution_count": 57,
      "outputs": [
        {
          "output_type": "display_data",
          "data": {
            "text/plain": [
              "<IPython.core.display.Math object>"
            ],
            "text/latex": "$\\displaystyle \\text{With } x = -10; x^2 + 4 \\quad \\Rightarrow \\quad -10² + 4 = 104$"
          },
          "metadata": {}
        },
        {
          "output_type": "display_data",
          "data": {
            "text/plain": [
              "<IPython.core.display.Math object>"
            ],
            "text/latex": "$\\displaystyle \\text{With } x = -9; x^2 + 4 \\quad \\Rightarrow \\quad -9² + 4 = 85$"
          },
          "metadata": {}
        },
        {
          "output_type": "display_data",
          "data": {
            "text/plain": [
              "<IPython.core.display.Math object>"
            ],
            "text/latex": "$\\displaystyle \\text{With } x = -8; x^2 + 4 \\quad \\Rightarrow \\quad -8² + 4 = 68$"
          },
          "metadata": {}
        },
        {
          "output_type": "display_data",
          "data": {
            "text/plain": [
              "<IPython.core.display.Math object>"
            ],
            "text/latex": "$\\displaystyle \\text{With } x = -7; x^2 + 4 \\quad \\Rightarrow \\quad -7² + 4 = 53$"
          },
          "metadata": {}
        },
        {
          "output_type": "display_data",
          "data": {
            "text/plain": [
              "<IPython.core.display.Math object>"
            ],
            "text/latex": "$\\displaystyle \\text{With } x = -6; x^2 + 4 \\quad \\Rightarrow \\quad -6² + 4 = 40$"
          },
          "metadata": {}
        },
        {
          "output_type": "display_data",
          "data": {
            "text/plain": [
              "<IPython.core.display.Math object>"
            ],
            "text/latex": "$\\displaystyle \\text{With } x = -5; x^2 + 4 \\quad \\Rightarrow \\quad -5² + 4 = 29$"
          },
          "metadata": {}
        },
        {
          "output_type": "display_data",
          "data": {
            "text/plain": [
              "<IPython.core.display.Math object>"
            ],
            "text/latex": "$\\displaystyle \\text{With } x = -4; x^2 + 4 \\quad \\Rightarrow \\quad -4² + 4 = 20$"
          },
          "metadata": {}
        },
        {
          "output_type": "display_data",
          "data": {
            "text/plain": [
              "<IPython.core.display.Math object>"
            ],
            "text/latex": "$\\displaystyle \\text{With } x = -3; x^2 + 4 \\quad \\Rightarrow \\quad -3² + 4 = 13$"
          },
          "metadata": {}
        },
        {
          "output_type": "display_data",
          "data": {
            "text/plain": [
              "<IPython.core.display.Math object>"
            ],
            "text/latex": "$\\displaystyle \\text{With } x = -2; x^2 + 4 \\quad \\Rightarrow \\quad -2² + 4 = 8$"
          },
          "metadata": {}
        },
        {
          "output_type": "display_data",
          "data": {
            "text/plain": [
              "<IPython.core.display.Math object>"
            ],
            "text/latex": "$\\displaystyle \\text{With } x = -1; x^2 + 4 \\quad \\Rightarrow \\quad -1² + 4 = 5$"
          },
          "metadata": {}
        },
        {
          "output_type": "display_data",
          "data": {
            "text/plain": [
              "<IPython.core.display.Math object>"
            ],
            "text/latex": "$\\displaystyle \\text{With } x = 0; x^2 + 4 \\quad \\Rightarrow \\quad 0² + 4 = 4$"
          },
          "metadata": {}
        },
        {
          "output_type": "display_data",
          "data": {
            "text/plain": [
              "<IPython.core.display.Math object>"
            ],
            "text/latex": "$\\displaystyle \\text{With } x = 1; x^2 + 4 \\quad \\Rightarrow \\quad 1² + 4 = 5$"
          },
          "metadata": {}
        },
        {
          "output_type": "display_data",
          "data": {
            "text/plain": [
              "<IPython.core.display.Math object>"
            ],
            "text/latex": "$\\displaystyle \\text{With } x = 2; x^2 + 4 \\quad \\Rightarrow \\quad 2² + 4 = 8$"
          },
          "metadata": {}
        },
        {
          "output_type": "display_data",
          "data": {
            "text/plain": [
              "<IPython.core.display.Math object>"
            ],
            "text/latex": "$\\displaystyle \\text{With } x = 3; x^2 + 4 \\quad \\Rightarrow \\quad 3² + 4 = 13$"
          },
          "metadata": {}
        },
        {
          "output_type": "display_data",
          "data": {
            "text/plain": [
              "<IPython.core.display.Math object>"
            ],
            "text/latex": "$\\displaystyle \\text{With } x = 4; x^2 + 4 \\quad \\Rightarrow \\quad 4² + 4 = 20$"
          },
          "metadata": {}
        },
        {
          "output_type": "display_data",
          "data": {
            "text/plain": [
              "<IPython.core.display.Math object>"
            ],
            "text/latex": "$\\displaystyle \\text{With } x = 5; x^2 + 4 \\quad \\Rightarrow \\quad 5² + 4 = 29$"
          },
          "metadata": {}
        },
        {
          "output_type": "display_data",
          "data": {
            "text/plain": [
              "<IPython.core.display.Math object>"
            ],
            "text/latex": "$\\displaystyle \\text{With } x = 6; x^2 + 4 \\quad \\Rightarrow \\quad 6² + 4 = 40$"
          },
          "metadata": {}
        },
        {
          "output_type": "display_data",
          "data": {
            "text/plain": [
              "<IPython.core.display.Math object>"
            ],
            "text/latex": "$\\displaystyle \\text{With } x = 7; x^2 + 4 \\quad \\Rightarrow \\quad 7² + 4 = 53$"
          },
          "metadata": {}
        },
        {
          "output_type": "display_data",
          "data": {
            "text/plain": [
              "<IPython.core.display.Math object>"
            ],
            "text/latex": "$\\displaystyle \\text{With } x = 8; x^2 + 4 \\quad \\Rightarrow \\quad 8² + 4 = 68$"
          },
          "metadata": {}
        },
        {
          "output_type": "display_data",
          "data": {
            "text/plain": [
              "<IPython.core.display.Math object>"
            ],
            "text/latex": "$\\displaystyle \\text{With } x = 9; x^2 + 4 \\quad \\Rightarrow \\quad 9² + 4 = 85$"
          },
          "metadata": {}
        }
      ]
    },
    {
      "cell_type": "code",
      "source": [
        "# f-strings\n",
        "x, y = sym.symbols('x, y')\n",
        "display(Math(f'\\\\frac{{x}}{{y}}'))\n",
        "\n",
        "expr = 3 / x\n",
        "\n",
        "display(Math(f'\\\\text{{Utilizando f-strings com latex: }}\\\\frac{{{sym.latex(expr)}}}{{{y}}}'))\n",
        "display(Math('\\\\text{Utilizando porcentagem para imprimir valores: } \\\\frac{%s}{%s}' %(sym.latex(expr), y)))"
      ],
      "metadata": {
        "colab": {
          "base_uri": "https://localhost:8080/",
          "height": 134
        },
        "id": "-7zoqxUYbH7n",
        "outputId": "760e7fdb-de71-4990-f898-a8d4d5200b49"
      },
      "execution_count": 64,
      "outputs": [
        {
          "output_type": "display_data",
          "data": {
            "text/plain": [
              "<IPython.core.display.Math object>"
            ],
            "text/latex": "$\\displaystyle \\frac{x}{y}$"
          },
          "metadata": {}
        },
        {
          "output_type": "display_data",
          "data": {
            "text/plain": [
              "<IPython.core.display.Math object>"
            ],
            "text/latex": "$\\displaystyle \\text{Utilizando f-strings com latex: }\\frac{\\frac{3}{x}}{y}$"
          },
          "metadata": {}
        },
        {
          "output_type": "display_data",
          "data": {
            "text/plain": [
              "<IPython.core.display.Math object>"
            ],
            "text/latex": "$\\displaystyle \\text{Utilizando porcentagem para imprimir valores: } \\frac{\\frac{3}{x}}{y}$"
          },
          "metadata": {}
        }
      ]
    },
    {
      "cell_type": "markdown",
      "source": [
        "**Use Sympy to understand the law of exponents**\n",
        "\n",
        "$x^y\\times x^z = x^{y+z}$\n",
        "\n",
        "$\\frac{x^y}{x^z} = x^y \\times x^{-z} = x^{y-z}$\n",
        "\n",
        "$x^y \\times y^z = x^y \\times y^z$"
      ],
      "metadata": {
        "id": "Pmkc1_-PypvF"
      }
    },
    {
      "cell_type": "code",
      "source": [
        "x, y, z = sym.symbols('x, y, z')\n",
        "\n",
        "expr = x**y * x**z\n",
        "expr2 = x**y / x**z\n",
        "expr3 = x**y * y**z\n",
        "\n",
        "display(Math('%s = %s' %(sym.latex(expr), sym.latex(sym.simplify(expr)))))\n",
        "display(Math('%s = %s' %(sym.latex(expr2), sym.latex(sym.simplify(expr2)))))\n",
        "display(Math('%s = %s' %(sym.latex(expr3), sym.latex(sym.simplify(expr3)))))"
      ],
      "metadata": {
        "colab": {
          "base_uri": "https://localhost:8080/",
          "height": 81
        },
        "id": "j98kteyJ0WwT",
        "outputId": "fa4eada8-55ee-4827-f82f-955ead947201"
      },
      "execution_count": 93,
      "outputs": [
        {
          "output_type": "display_data",
          "data": {
            "text/plain": [
              "<IPython.core.display.Math object>"
            ],
            "text/latex": "$\\displaystyle x^{y} x^{z} = x^{y + z}$"
          },
          "metadata": {}
        },
        {
          "output_type": "display_data",
          "data": {
            "text/plain": [
              "<IPython.core.display.Math object>"
            ],
            "text/latex": "$\\displaystyle x^{y} x^{- z} = x^{y - z}$"
          },
          "metadata": {}
        },
        {
          "output_type": "display_data",
          "data": {
            "text/plain": [
              "<IPython.core.display.Math object>"
            ],
            "text/latex": "$\\displaystyle x^{y} y^{z} = x^{y} y^{z}$"
          },
          "metadata": {}
        }
      ]
    },
    {
      "cell_type": "code",
      "source": [
        "sym.Eq(expr, sym.simplify(expr))"
      ],
      "metadata": {
        "colab": {
          "base_uri": "https://localhost:8080/",
          "height": 38
        },
        "id": "dHxD_8x641q0",
        "outputId": "15411c51-2f2e-4b8c-d84f-cfa5f34c70b2"
      },
      "execution_count": 103,
      "outputs": [
        {
          "output_type": "execute_result",
          "data": {
            "text/plain": [
              " y  z    y + z\n",
              "x ⋅x  = x     "
            ],
            "text/latex": "$\\displaystyle x^{y} x^{z} = x^{y + z}$"
          },
          "metadata": {},
          "execution_count": 103
        }
      ]
    },
    {
      "cell_type": "code",
      "source": [
        "display(sym.powsimp(expr))"
      ],
      "metadata": {
        "colab": {
          "base_uri": "https://localhost:8080/",
          "height": 38
        },
        "id": "nDHb9pwG8ony",
        "outputId": "cb432d8c-ffb0-452b-a753-1fa304d0a2de"
      },
      "execution_count": 105,
      "outputs": [
        {
          "output_type": "display_data",
          "data": {
            "text/plain": [
              " y + z\n",
              "x     "
            ],
            "text/latex": "$\\displaystyle x^{y + z}$"
          },
          "metadata": {}
        }
      ]
    },
    {
      "cell_type": "markdown",
      "source": [
        "# **Sympy and LaTeX: Bug hunt!**"
      ],
      "metadata": {
        "id": "VwWSuWvJ9tUQ"
      }
    },
    {
      "cell_type": "code",
      "source": [
        "mu, alpha = sym.symbols('mu, alpha')\n",
        "\n",
        "expr = 2 * sym.exp(mu**2 / alpha)\n",
        "\n",
        "display(Math(sym.latex(expr)))"
      ],
      "metadata": {
        "id": "ivsBTi7a9r8G"
      },
      "execution_count": null,
      "outputs": []
    },
    {
      "cell_type": "code",
      "source": [
        "display(Math('1234 + \\\\frac{3x}{\\\\sin(2\\\\pi t+\\\\theta)}'))"
      ],
      "metadata": {
        "colab": {
          "base_uri": "https://localhost:8080/",
          "height": 55
        },
        "id": "3M8M6pJd-JuS",
        "outputId": "54c5c62b-2601-4005-f843-ba5f047df67a"
      },
      "execution_count": 110,
      "outputs": [
        {
          "output_type": "display_data",
          "data": {
            "text/plain": [
              "<IPython.core.display.Math object>"
            ],
            "text/latex": "$\\displaystyle 1234 + \\frac{3x}{\\sin(2\\pi t+\\theta)}$"
          },
          "metadata": {}
        }
      ]
    },
    {
      "cell_type": "code",
      "source": [
        "a = '3'\n",
        "b = '2'\n",
        "\n",
        "print(sym.sympify(int(a)+int(b)))"
      ],
      "metadata": {
        "colab": {
          "base_uri": "https://localhost:8080/"
        },
        "id": "wQjDyU2I-aOK",
        "outputId": "692a0709-9648-4032-ceee-0ba21ab1a188"
      },
      "execution_count": 112,
      "outputs": [
        {
          "output_type": "stream",
          "name": "stdout",
          "text": [
            "5\n"
          ]
        }
      ]
    },
    {
      "cell_type": "code",
      "source": [
        "x = 1/2\n",
        "sym.Eq(2, 4*x)"
      ],
      "metadata": {
        "colab": {
          "base_uri": "https://localhost:8080/",
          "height": 37
        },
        "id": "yxRWhmfi-ln8",
        "outputId": "3c6ddb82-d1a4-4b90-bb50-35e411a7b7a7"
      },
      "execution_count": 119,
      "outputs": [
        {
          "output_type": "execute_result",
          "data": {
            "text/plain": [
              "True"
            ],
            "text/latex": "$\\displaystyle \\text{True}$"
          },
          "metadata": {},
          "execution_count": 119
        }
      ]
    },
    {
      "cell_type": "code",
      "source": [
        "q = t**2\n",
        "r = t**2\n",
        "\n",
        "display(q)\n",
        "display(r)\n",
        "\n",
        "q = sym.sympify('x²')\n",
        "r = sym.sympify('x**2')\n",
        "\n",
        "sym.Eq(q, r)"
      ],
      "metadata": {
        "colab": {
          "base_uri": "https://localhost:8080/",
          "height": 81
        },
        "id": "jZwVMVsH_tnV",
        "outputId": "e95e353a-c490-4861-97e1-566ac25c4c87"
      },
      "execution_count": 124,
      "outputs": [
        {
          "output_type": "display_data",
          "data": {
            "text/plain": [
              " 2\n",
              "t "
            ],
            "text/latex": "$\\displaystyle t^{2}$"
          },
          "metadata": {}
        },
        {
          "output_type": "display_data",
          "data": {
            "text/plain": [
              " 2\n",
              "t "
            ],
            "text/latex": "$\\displaystyle t^{2}$"
          },
          "metadata": {}
        },
        {
          "output_type": "execute_result",
          "data": {
            "text/plain": [
              "      2\n",
              "x² = x "
            ],
            "text/latex": "$\\displaystyle x² = x^{2}$"
          },
          "metadata": {},
          "execution_count": 124
        }
      ]
    },
    {
      "cell_type": "code",
      "source": [
        "x = sym.symbols('x')\n",
        "\n",
        "equation = (4*x**2 - 5*x + 10)**(1/2)\n",
        "\n",
        "display(equation)\n",
        "equation.subs(x, 3)"
      ],
      "metadata": {
        "colab": {
          "base_uri": "https://localhost:8080/",
          "height": 62
        },
        "id": "7Gg_BObIA0Th",
        "outputId": "4581658e-d558-4cd5-ac3a-0080148aef4e"
      },
      "execution_count": 128,
      "outputs": [
        {
          "output_type": "display_data",
          "data": {
            "text/plain": [
              "                 0.5\n",
              "⎛   2           ⎞   \n",
              "⎝4⋅x  - 5⋅x + 10⎠   "
            ],
            "text/latex": "$\\displaystyle \\left(4 x^{2} - 5 x + 10\\right)^{0.5}$"
          },
          "metadata": {}
        },
        {
          "output_type": "execute_result",
          "data": {
            "text/plain": [
              "5.56776436283002"
            ],
            "text/latex": "$\\displaystyle 5.56776436283002$"
          },
          "metadata": {},
          "execution_count": 128
        }
      ]
    },
    {
      "cell_type": "code",
      "source": [
        "x, y = sym.symbols('x, y')\n",
        "\n",
        "equation = 1/4*x*y**2 - x*(5*x + 10*y**2)**(3)\n",
        "display(equation)"
      ],
      "metadata": {
        "colab": {
          "base_uri": "https://localhost:8080/",
          "height": 41
        },
        "id": "pZS0m1C8BVgA",
        "outputId": "625786cd-61a9-46cc-d0e6-3ce6dc274df6"
      },
      "execution_count": 130,
      "outputs": [
        {
          "output_type": "display_data",
          "data": {
            "text/plain": [
              "                           3\n",
              "        2     ⎛          2⎞ \n",
              "0.25⋅x⋅y  - x⋅⎝5⋅x + 10⋅y ⎠ "
            ],
            "text/latex": "$\\displaystyle 0.25 x y^{2} - x \\left(5 x + 10 y^{2}\\right)^{3}$"
          },
          "metadata": {}
        }
      ]
    }
  ]
}