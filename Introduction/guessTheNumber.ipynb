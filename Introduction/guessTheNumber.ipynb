{
  "nbformat": 4,
  "nbformat_minor": 0,
  "metadata": {
    "colab": {
      "provenance": [],
      "authorship_tag": "ABX9TyP6THxGroytEpKDZ4YSCF1x",
      "include_colab_link": true
    },
    "kernelspec": {
      "name": "python3",
      "display_name": "Python 3"
    },
    "language_info": {
      "name": "python"
    }
  },
  "cells": [
    {
      "cell_type": "markdown",
      "metadata": {
        "id": "view-in-github",
        "colab_type": "text"
      },
      "source": [
        "<a href=\"https://colab.research.google.com/github/sCesca/Data-Science/blob/main/guessTheNumber.ipynb\" target=\"_parent\"><img src=\"https://colab.research.google.com/assets/colab-badge.svg\" alt=\"Open In Colab\"/></a>"
      ]
    },
    {
      "cell_type": "code",
      "execution_count": 3,
      "metadata": {
        "id": "U1exYDcLSgTs"
      },
      "outputs": [],
      "source": [
        "from IPython.display import Math, display\n",
        "from numpy import random"
      ]
    },
    {
      "cell_type": "code",
      "source": [
        "def guessTheNumber():\n",
        "  randomNumber = random.randint(1, 100)\n",
        "  return randomNumber\n",
        "\n",
        "condicao = guessTheNumber()\n",
        "\n",
        "number = int(input('Guess a number between 1 and 100: '))\n",
        "\n",
        "while (number != condicao):\n",
        " if (number > condicao):\n",
        "  print('Guess higher!')\n",
        " else:\n",
        "  print('Guess lower!')\n",
        " number = int(input('Guess again: '))\n",
        "\n",
        "print('Got it! The right number was 78 and your final guess was %g' %(number))"
      ],
      "metadata": {
        "colab": {
          "base_uri": "https://localhost:8080/"
        },
        "id": "PzxizWfDS2Tg",
        "outputId": "ad372fee-540f-4d5f-ff0b-31fd9e4ea6c3"
      },
      "execution_count": 6,
      "outputs": [
        {
          "output_type": "stream",
          "name": "stdout",
          "text": [
            "Guess a number between 1 and 100: 50\n",
            "Guess higher!\n",
            "Guess again: 25\n",
            "Guess lower!\n",
            "Guess again: 30\n",
            "Guess lower!\n",
            "Guess again: 40\n",
            "Guess lower!\n",
            "Guess again: 45\n",
            "Got it! The right number was 78 and your final guess was 45\n"
          ]
        }
      ]
    }
  ]
}